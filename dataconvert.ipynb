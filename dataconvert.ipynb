{
  "cells": [
    {
      "metadata": {
        "collapsed": true
      },
      "cell_type": "markdown",
      "source": "## Data conversion\nChange matlab .mat files in data into numpy files.\nThen maybe delete the matlab files?"
    },
    {
      "metadata": {
        "trusted": false
      },
      "cell_type": "code",
      "source": "import numpy as np\nimport scipy.io as sio\n\ndef read_trials(subj, n, drop=10, template='%s_lum1_brad%03d.mat'):\n    # reads and concatenates a series of experiments stored in .mat\n    # files. Returns a trials array and a monitor mat_struct\n    #\n    # Each element of the trials array is a mat_struct with\n    #   .target, .targetnoise - the edge and the noise \n    #   .stimulus = .target+.targetnoise\n    #   .response - the *pixel* that the observer clicked\n    #   .truepos - the *pixel* that the edge was located at\n    #   .responsepos, position - the above two in degrees from -5..5\n    #\n    # The only interesting property of monitor is .pixelsperdegree\n    \n    def pixelpos(trial, pos, monitor):\n        # computes the pixel position that the subject thought the edge was at\n        return int(round(pos*monitor.pixelsperdegree+trial.stimulus.shape[0]/2.0))\n    \n    trials = []\n    for i in range(n):\n        fname = template % (subj,i+1)\n        print \"reading \"+fname\n        data = sio.loadmat(fname, struct_as_record=False, squeeze_me=True)\n        if (i==0):\n            monitor = data['monitor']\n        trials = trials+data['trials'][drop:,].tolist()\n    # compute stimulus for each trial\n    for i in range(len(trials)):\n        trials[i].stimulus = (trials[i].target + trials[i].targetnoise)[:,1]\n        trials[i].response = pixelpos(trials[i], trials[i].responsepos, monitor)\n        trials[i].truepos  = pixelpos(trials[i], trials[i].position, monitor)\n    return (trials, monitor)\n",
      "execution_count": 4,
      "outputs": []
    },
    {
      "metadata": {
        "trusted": false
      },
      "cell_type": "code",
      "source": "trials,monitor = read_trials('data/cws',12,template='%s_white_brad%03d.mat')\nnp.save('data/c0.npy', trials)",
      "execution_count": 5,
      "outputs": [
        {
          "name": "stdout",
          "output_type": "stream",
          "text": "reading data/cws_white_brad001.mat\nreading data/cws_white_brad002.mat\nreading data/cws_white_brad003.mat\nreading data/cws_white_brad004.mat\nreading data/cws_white_brad005.mat\nreading data/cws_white_brad006.mat\nreading data/cws_white_brad007.mat\nreading data/cws_white_brad008.mat\nreading data/cws_white_brad009.mat\nreading data/cws_white_brad010.mat\nreading data/cws_white_brad011.mat\nreading data/cws_white_brad012.mat\n"
        }
      ]
    },
    {
      "metadata": {
        "trusted": false
      },
      "cell_type": "code",
      "source": "",
      "execution_count": null,
      "outputs": []
    }
  ],
  "metadata": {
    "kernelspec": {
      "name": "python2",
      "display_name": "Python 2",
      "language": "python"
    },
    "language_info": {
      "mimetype": "text/x-python",
      "nbconvert_exporter": "python",
      "name": "python",
      "pygments_lexer": "ipython2",
      "version": "2.7.15",
      "file_extension": ".py",
      "codemirror_mode": {
        "version": 2,
        "name": "ipython"
      }
    }
  },
  "nbformat": 4,
  "nbformat_minor": 2
}